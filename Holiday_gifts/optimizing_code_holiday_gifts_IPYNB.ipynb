{
  "nbformat": 4,
  "nbformat_minor": 0,
  "metadata": {
    "kernelspec": {
      "display_name": "Python 3",
      "language": "python",
      "name": "python3"
    },
    "language_info": {
      "codemirror_mode": {
        "name": "ipython",
        "version": 3
      },
      "file_extension": ".py",
      "mimetype": "text/x-python",
      "name": "python",
      "nbconvert_exporter": "python",
      "pygments_lexer": "ipython3",
      "version": "3.6.3"
    },
    "colab": {
      "name": "optimizing-code-holiday-gifts.IPYNB",
      "provenance": []
    }
  },
  "cells": [
    {
      "cell_type": "markdown",
      "metadata": {
        "id": "qOzh-sVWTjt3"
      },
      "source": [
        "# Optimizing Code: Holiday Gifts\n",
        "In the last example, you learned that using vectorized operations and more efficient data structures can optimize your code. Let's use these tips for one more example.\n",
        "\n",
        "Say your online gift store has one million users that each listed a gift on a wish list. You have the prices for each of these gifts stored in `gift_costs.txt`. For the holidays, you're going to give each customer their wish list gift for free if it is under 25 dollars. Now, you want to calculate the total cost of all gifts under 25 dollars to see how much you'd spend on free gifts. Here's one way you could've done it."
      ]
    },
    {
      "cell_type": "code",
      "metadata": {
        "id": "04vOv5bETjt5"
      },
      "source": [
        "import time\n",
        "import numpy as np"
      ],
      "execution_count": 11,
      "outputs": []
    },
    {
      "cell_type": "code",
      "metadata": {
        "id": "R2NCJeRxTjt5"
      },
      "source": [
        "with open('gift-costs.txt') as f:\n",
        "    gift_costs = f.read().split('\\n')\n",
        "    \n",
        "gift_costs = np.array(gift_costs).astype(int)  # convert string to int"
      ],
      "execution_count": 12,
      "outputs": []
    },
    {
      "cell_type": "code",
      "metadata": {
        "colab": {
          "base_uri": "https://localhost:8080/"
        },
        "id": "tpolRwAMTjt6",
        "outputId": "4f784f08-7d28-4022-cbda-fbfe1fc53eb1"
      },
      "source": [
        "start = time.time()\n",
        "\n",
        "total_price = 0\n",
        "for cost in gift_costs:\n",
        "    if cost < 25:\n",
        "        total_price += cost * 1.08  # add cost after tax\n",
        "\n",
        "print(total_price)\n",
        "print('Duration: {} seconds'.format(time.time() - start))"
      ],
      "execution_count": 14,
      "outputs": [
        {
          "output_type": "stream",
          "text": [
            "32765421.23999867\n",
            "Duration: 9.021969556808472 seconds\n"
          ],
          "name": "stdout"
        }
      ]
    },
    {
      "cell_type": "markdown",
      "metadata": {
        "id": "58rseOElTjt6"
      },
      "source": [
        "Here you iterate through each cost in the list, and check if it's less than 25. If so, you add the cost to the total price after tax. This works, but there is a much faster way to do this. Can you refactor this to run under half a second?"
      ]
    },
    {
      "cell_type": "markdown",
      "metadata": {
        "id": "f5O2DttmTjt6"
      },
      "source": [
        "## Refactor Code\n",
        "**Hint:** Using numpy makes it very easy to select all the elements in an array that meet a certain condition, and then perform operations on them together all at once. You can them find the sum of what those values end up being."
      ]
    },
    {
      "cell_type": "code",
      "metadata": {
        "colab": {
          "base_uri": "https://localhost:8080/"
        },
        "id": "sT4rnGPwTjt6",
        "outputId": "a1436730-413a-443b-d960-e70efda92be7"
      },
      "source": [
        "start = time.time()\n",
        "\n",
        "total_price = (gift_costs[gift_costs<25]).sum()*1.08 # TODO: compute the total price\n",
        "\n",
        "print(total_price)\n",
        "print('Duration: {} seconds'.format(time.time() - start))"
      ],
      "execution_count": 13,
      "outputs": [
        {
          "output_type": "stream",
          "text": [
            "32765421.240000002\n",
            "Duration: 0.0802757740020752 seconds\n"
          ],
          "name": "stdout"
        }
      ]
    },
    {
      "cell_type": "code",
      "metadata": {
        "id": "jTEi-yGlTjt7"
      },
      "source": [
        ""
      ],
      "execution_count": null,
      "outputs": []
    }
  ]
}